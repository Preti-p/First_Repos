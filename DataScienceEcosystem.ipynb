{
 "cells": [
  {
   "cell_type": "markdown",
   "id": "e4a16901-6f63-48a1-ae67-08e8dc7135eb",
   "metadata": {},
   "source": [
    "# Data Science Tools and Ecosystem"
   ]
  },
  {
   "cell_type": "markdown",
   "id": "f9e86517-b934-467e-b68f-c327ff7e6e1a",
   "metadata": {},
   "source": [
    "In this notebook, Data Science Tools and Ecosystem are summarized "
   ]
  },
  {
   "cell_type": "markdown",
   "id": "5e5988b7-c6eb-41ab-afe0-a5b1ec7ea75c",
   "metadata": {},
   "source": [
    "# Objectives \n",
    "- List the popular languages for Data Science \n",
    "- List the commonly used libraries by Data Scientists\n",
    "- List three Data Science tools\n",
    "- Make some arithmetic expression in Phyton"
   ]
  },
  {
   "cell_type": "markdown",
   "id": "000ede99-f230-46ba-92cc-bf177e2cbda3",
   "metadata": {},
   "source": [
    "Some of the popular languages that Data Scientist use are:\n",
    "1. Python \n",
    "2. R\n",
    "3. SQL\n",
    "4. Java\n",
    "5. JavaScript"
   ]
  },
  {
   "cell_type": "markdown",
   "id": "744e2c45-aa7b-46a7-bdd9-50634d2fdd14",
   "metadata": {
    "tags": []
   },
   "source": [
    "some of the commonly used libraries by Data Scientists include:\n",
    "\n",
    "    1. Numpy\n",
    "    2. Pandas\n",
    "    3. Matplotlib\n",
    "    4. seaborn\n",
    "    5. Scikit-learn"
   ]
  },
  {
   "cell_type": "markdown",
   "id": "f054a8fc-eb35-42a1-9170-8bd964d50120",
   "metadata": {},
   "source": [
    "|Data Science Tools| \n",
    "-------------------\n",
    "|TensorFlow|\n",
    "|Rstudio|\n",
    "|Apache Spark|\n",
    "|Apache Hadoop|"
   ]
  },
  {
   "cell_type": "markdown",
   "id": "90605bee-e4ba-4755-839a-76053a1cbe78",
   "metadata": {},
   "source": [
    "### Below are a few examples of arithmetic expressions in python"
   ]
  },
  {
   "cell_type": "code",
   "execution_count": 9,
   "id": "75a1cc40-2b8b-4580-b37b-7b4c9ddb6e31",
   "metadata": {
    "tags": []
   },
   "outputs": [
    {
     "data": {
      "text/plain": [
       "17"
      ]
     },
     "execution_count": 9,
     "metadata": {},
     "output_type": "execute_result"
    }
   ],
   "source": [
    "#This is a simple arithemtic expression to multiply then add integers\n",
    "(3*4)+5"
   ]
  },
  {
   "cell_type": "code",
   "execution_count": 10,
   "id": "d197ece7-5589-4f7d-84ca-9bf492ed61ca",
   "metadata": {
    "tags": []
   },
   "outputs": [
    {
     "data": {
      "text/plain": [
       "3.3333333333333335"
      ]
     },
     "execution_count": 10,
     "metadata": {},
     "output_type": "execute_result"
    }
   ],
   "source": [
    "#This will convert 200 minutes to hours by dividing by 60\n",
    "(200/60)"
   ]
  },
  {
   "cell_type": "markdown",
   "id": "81be0bde-1f99-4bab-9239-82326d1bdaf6",
   "metadata": {},
   "source": [
    "## Author\n",
    "Precious Kennedy"
   ]
  },
  {
   "cell_type": "code",
   "execution_count": null,
   "id": "5e54505d-91ad-4e9d-81d3-b4717384ee8d",
   "metadata": {},
   "outputs": [],
   "source": []
  }
 ],
 "metadata": {
  "kernelspec": {
   "display_name": "Python 3 (ipykernel)",
   "language": "python",
   "name": "python3"
  },
  "language_info": {
   "codemirror_mode": {
    "name": "ipython",
    "version": 3
   },
   "file_extension": ".py",
   "mimetype": "text/x-python",
   "name": "python",
   "nbconvert_exporter": "python",
   "pygments_lexer": "ipython3",
   "version": "3.11.5"
  },
  "toc-showmarkdowntxt": true,
  "toc-showtags": false
 },
 "nbformat": 4,
 "nbformat_minor": 5
}
